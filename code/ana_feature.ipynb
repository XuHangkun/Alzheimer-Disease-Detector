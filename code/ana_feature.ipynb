{
 "cells": [
  {
   "cell_type": "code",
   "execution_count": 1,
   "source": [
    "import pandas as pd\n",
    "import numpy as np\n",
    "import matplotlib.pyplot as plt\n",
    "import os\n",
    "from tqdm import tqdm"
   ],
   "outputs": [],
   "metadata": {}
  },
  {
   "cell_type": "code",
   "execution_count": 2,
   "source": [
    "train_open_data = pd.read_csv(\"../data/train_open.csv\")\n",
    "print(train_open_data.columns)"
   ],
   "outputs": [
    {
     "output_type": "stream",
     "name": "stdout",
     "text": [
      "Index(['new_subject_id', 'site', 'age', 'male', 'female', 'NC', 'MCI', 'AD',\n",
      "       'Label', 'Resolution', 'Noise', 'Bias', 'IQR', 'TIV', 'CSF', 'GMV',\n",
      "       'WMV', 'Thickness', 'Thickness_std'],\n",
      "      dtype='object')\n"
     ]
    }
   ],
   "metadata": {}
  },
  {
   "cell_type": "code",
   "execution_count": 3,
   "source": [
    "# 年龄\n",
    "plt.hist(train_open_data[\"age\"].to_numpy(),histtype=\"step\",bins=50)"
   ],
   "outputs": [
    {
     "output_type": "execute_result",
     "data": {
      "text/plain": [
       "(array([  1.,   0.,   0.,   0.,   0.,   1.,   0.,   0.,   2.,   3.,   4.,\n",
       "          3.,   2.,   5.,   4.,  25.,   9.,  12.,   9.,  25.,  32.,  47.,\n",
       "         41.,  77.,  60.,  75., 107.,  88., 100., 120., 110., 181., 146.,\n",
       "        146., 123., 137., 113., 169., 117.,  99.,  90.,  69.,  79.,  49.,\n",
       "         50.,  31.,  21.,  11.,   5.,   2.]),\n",
       " array([32.   , 33.188, 34.376, 35.564, 36.752, 37.94 , 39.128, 40.316,\n",
       "        41.504, 42.692, 43.88 , 45.068, 46.256, 47.444, 48.632, 49.82 ,\n",
       "        51.008, 52.196, 53.384, 54.572, 55.76 , 56.948, 58.136, 59.324,\n",
       "        60.512, 61.7  , 62.888, 64.076, 65.264, 66.452, 67.64 , 68.828,\n",
       "        70.016, 71.204, 72.392, 73.58 , 74.768, 75.956, 77.144, 78.332,\n",
       "        79.52 , 80.708, 81.896, 83.084, 84.272, 85.46 , 86.648, 87.836,\n",
       "        89.024, 90.212, 91.4  ]),\n",
       " [<matplotlib.patches.Polygon at 0x7f48316364e0>])"
      ]
     },
     "metadata": {},
     "execution_count": 3
    },
    {
     "output_type": "display_data",
     "data": {
      "text/plain": [
       "<Figure size 432x288 with 1 Axes>"
      ],
      "image/png": "[encoded data removed]"
     },
     "metadata": {
      "needs_background": "light"
     }
    }
   ],
   "metadata": {}
  },
  {
   "cell_type": "code",
   "execution_count": 4,
   "source": [
    "data = train_open_data[train_open_data[\"Label\"] == 0]\n",
    "plt.hist(data[\"GMV\"].to_numpy()/data[\"TIV\"].to_numpy(),histtype=\"step\",bins=50,label=\"label 0\")\n",
    "data = train_open_data[train_open_data[\"Label\"] == 1]\n",
    "plt.hist(data[\"GMV\"].to_numpy()/data[\"TIV\"].to_numpy(),histtype=\"step\",bins=50,label=\"label 1\")\n",
    "data = train_open_data[train_open_data[\"Label\"] == 2]\n",
    "plt.hist(data[\"GMV\"].to_numpy()/data[\"TIV\"].to_numpy(),histtype=\"step\",bins=50,label=\"label 2\")\n",
    "plt.legend()"
   ],
   "outputs": [
    {
     "output_type": "execute_result",
     "data": {
      "text/plain": [
       "<matplotlib.legend.Legend at 0x7f482d2aedd8>"
      ]
     },
     "metadata": {},
     "execution_count": 4
    },
    {
     "output_type": "display_data",
     "data": {
      "text/plain": [
       "<Figure size 432x288 with 1 Axes>"
      ],
      "image/png": "[encoded data removed]"
     },
     "metadata": {
      "needs_background": "light"
     }
    }
   ],
   "metadata": {}
  },
  {
   "cell_type": "code",
   "execution_count": 5,
   "source": [
    "data = train_open_data[train_open_data[\"Label\"] == 0]\n",
    "plt.hist(data[\"GMV\"].to_numpy(),histtype=\"step\",bins=50,label=\"label 0\")\n",
    "data = train_open_data[train_open_data[\"Label\"] == 1]\n",
    "plt.hist(data[\"GMV\"].to_numpy(),histtype=\"step\",bins=50,label=\"label 1\")\n",
    "data = train_open_data[train_open_data[\"Label\"] == 2]\n",
    "plt.hist(data[\"GMV\"].to_numpy(),histtype=\"step\",bins=50,label=\"label 2\")\n",
    "plt.legend()"
   ],
   "outputs": [
    {
     "output_type": "execute_result",
     "data": {
      "text/plain": [
       "<matplotlib.legend.Legend at 0x7f482d289cc0>"
      ]
     },
     "metadata": {},
     "execution_count": 5
    },
    {
     "output_type": "display_data",
     "data": {
      "text/plain": [
       "<Figure size 432x288 with 1 Axes>"
      ],
      "image/png": "[encoded data removed]"
     },
     "metadata": {
      "needs_background": "light"
     }
    }
   ],
   "metadata": {}
  },
  {
   "cell_type": "markdown",
   "source": [
    "## For a feature , mean +- std.\n",
    "## we can calculate the difference between AD/MCI/NC samples\n",
    "## chi2 = (mean_i - mean_j)^2/(std_i^2 + std_j^2)\n",
    "## we can sort these chi^2 and select the most useful features."
   ],
   "metadata": {}
  },
  {
   "cell_type": "code",
   "execution_count": 6,
   "source": [
    "features = {\n",
    "    \"label0\":[],\n",
    "    \"label1\":[],\n",
    "    \"label2\":[]\n",
    "}\n",
    "for i in tqdm(range(len(train_open_data))):\n",
    "    file_name = os.path.join(\"../data/train\",\"%s.npy\"%(train_open_data[\"new_subject_id\"][i]))\n",
    "    x = np.load(file_name)\n",
    "    x = np.nan_to_num(x,  nan=0, posinf=0, neginf=0)\n",
    "    label = train_open_data[\"Label\"][i]\n",
    "    features[\"label%d\"%(label)].append(x)\n",
    "for key in features.keys():\n",
    "    features[key] = np.array(features[key])"
   ],
   "outputs": [
    {
     "output_type": "stream",
     "name": "stderr",
     "text": [
      "100%|██████████| 2600/2600 [01:54<00:00, 22.71it/s]\n"
     ]
    }
   ],
   "metadata": {}
  },
  {
   "cell_type": "code",
   "execution_count": 9,
   "source": [
    "mean_features = {}\n",
    "std_features = {}\n",
    "for key in features.keys():\n",
    "    mean_features[key] = np.mean(features[key],axis=0)\n",
    "    std_features[key] = np.std(features[key],axis=0)\n",
    "keys = list(features.keys())\n",
    "chi2 = np.array([0 for i in mean_features[\"label0\"]],dtype=float)\n",
    "for i in range(len(keys)):\n",
    "    std2 = np.power(std_features[keys[i]],2) + np.power(std_features[keys[(i + 1)%len(keys)]],2)\n",
    "    if np.mean(std2) < 1.e-3:\n",
    "        std2 += 1\n",
    "    chi2 += np.power(mean_features[keys[i]] - mean_features[keys[(i + 1) % len(keys)]],2)/std2\n",
    "chi2 = np.nan_to_num(chi2,  nan=0, posinf=0, neginf=0)\n",
    "print(chi2.shape)"
   ],
   "outputs": [
    {
     "output_type": "stream",
     "name": "stdout",
     "text": [
      "(28169,)\n"
     ]
    },
    {
     "output_type": "stream",
     "name": "stderr",
     "text": [
      "/afs/ihep.ac.cn/users/x/xuhangkun/.local/lib/python3.6/site-packages/ipykernel_launcher.py:12: RuntimeWarning: invalid value encountered in true_divide\n",
      "  if sys.path[0] == '':\n"
     ]
    }
   ],
   "metadata": {}
  },
  {
   "cell_type": "code",
   "execution_count": 14,
   "source": [
    "chi2_info = {\n",
    "    \"dim\" : np.array(range(len(chi2))),\n",
    "    \"chi2\" :chi2\n",
    "}\n",
    "for i in range(3):\n",
    "    chi2_info[\"label%d_mean\"%(i)] = mean_features[\"label%d\"%(i)]\n",
    "    chi2_info[\"label%d_std\"%(i)] = std_features[\"label%d\"%(i)]\n",
    "chi2_df = pd.DataFrame(chi2_info)\n",
    "chi2_df = chi2_df.sort_values(by=\"chi2\",ascending=False)\n",
    "chi2_df = chi2_df.reset_index(drop=True)\n",
    "chi2_df.to_csv(\"../data/chi2_info.csv\",index=None)\n"
   ],
   "outputs": [
    {
     "output_type": "stream",
     "name": "stdout",
     "text": [
      "         dim      chi2\n",
      "0      13962  2.231750\n",
      "1      14082  2.231750\n",
      "2      14200  2.231750\n",
      "3      15424  2.203995\n",
      "4      14678  2.161811\n",
      "...      ...       ...\n",
      "28164  13884  0.000000\n",
      "28165  13883  0.000000\n",
      "28166  13879  0.000000\n",
      "28167  13875  0.000000\n",
      "28168   1511  0.000000\n",
      "\n",
      "[28169 rows x 2 columns]\n"
     ]
    }
   ],
   "metadata": {}
  },
  {
   "cell_type": "code",
   "execution_count": 17,
   "source": [
    "chi2 = set(chi2_df[chi2_df[\"chi2\"] > 1.0][\"chi2\"].to_numpy())\n",
    "print(len(chi2))\n",
    "plt.hist(chi2,bins=100)\n",
    "plt.xlabel(\"$\\chi^{2}$\",fontsize=14)"
   ],
   "outputs": [
    {
     "output_type": "stream",
     "name": "stdout",
     "text": [
      "185\n"
     ]
    },
    {
     "output_type": "execute_result",
     "data": {
      "text/plain": [
       "Text(0.5, 0, '$\\\\chi^{2}$')"
      ]
     },
     "metadata": {},
     "execution_count": 17
    },
    {
     "output_type": "display_data",
     "data": {
      "text/plain": [
       "<Figure size 432x288 with 1 Axes>"
      ],
      "image/png": "[encoded data removed]"
     },
     "metadata": {
      "needs_background": "light"
     }
    }
   ],
   "metadata": {}
  },
  {
   "cell_type": "code",
   "execution_count": null,
   "source": [],
   "outputs": [],
   "metadata": {}
  }
 ],
 "metadata": {
  "orig_nbformat": 4,
  "language_info": {
   "name": "python",
   "version": "3.6.8",
   "mimetype": "text/x-python",
   "codemirror_mode": {
    "name": "ipython",
    "version": 3
   },
   "pygments_lexer": "ipython3",
   "nbconvert_exporter": "python",
   "file_extension": ".py"
  },
  "kernelspec": {
   "name": "python3",
   "display_name": "Python 3.6.8 64-bit"
  },
  "interpreter": {
   "hash": "31f2aee4e71d21fbe5cf8b01ff0e069b9275f58929596ceb00d14d90e3e16cd6"
  }
 },
 "nbformat": 4,
 "nbformat_minor": 2
}